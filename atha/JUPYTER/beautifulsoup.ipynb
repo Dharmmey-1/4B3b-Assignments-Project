{
 "cells": [
  {
   "cell_type": "code",
   "execution_count": 9,
   "metadata": {
    "ExecuteTime": {
     "end_time": "2021-06-08T13:58:34.866609Z",
     "start_time": "2021-06-08T13:58:34.854611Z"
    }
   },
   "outputs": [],
   "source": [
    "html = \"\"\"\n",
    "<html>\n",
    "\n",
    "<body>\n",
    "    <p>Some\n",
    "        <b>\n",
    "            bad\n",
    "            <i>\n",
    "                HTML\n",
    "            </i>\n",
    "        </b>\n",
    "    </p>\n",
    "    <p>\n",
    "    another p tag\n",
    "    </p>\n",
    "</body>\n",
    "\n",
    "</html>\n",
    "        \"\"\""
   ]
  },
  {
   "cell_type": "code",
   "execution_count": 20,
   "metadata": {
    "ExecuteTime": {
     "end_time": "2021-06-08T14:05:46.334339Z",
     "start_time": "2021-06-08T14:05:46.321049Z"
    }
   },
   "outputs": [],
   "source": [
    "import bs4\n",
    "import requests"
   ]
  },
  {
   "cell_type": "code",
   "execution_count": 11,
   "metadata": {
    "ExecuteTime": {
     "end_time": "2021-06-08T13:58:35.694203Z",
     "start_time": "2021-06-08T13:58:35.688200Z"
    }
   },
   "outputs": [],
   "source": [
    "soup = bs4.BeautifulSoup(html)"
   ]
  },
  {
   "cell_type": "code",
   "execution_count": 12,
   "metadata": {
    "ExecuteTime": {
     "end_time": "2021-06-08T13:58:36.072549Z",
     "start_time": "2021-06-08T13:58:36.051547Z"
    }
   },
   "outputs": [
    {
     "data": {
      "text/plain": [
       "[<p>Some\n",
       "         <b>\n",
       "             bad\n",
       "             <i>\n",
       "                 HTML\n",
       "             </i>\n",
       " </b>\n",
       " </p>,\n",
       " <p>\n",
       "     another p tag\n",
       "     </p>]"
      ]
     },
     "execution_count": 12,
     "metadata": {},
     "output_type": "execute_result"
    }
   ],
   "source": [
    "soup.find_all('p') # returns a list of all tags that match required value"
   ]
  },
  {
   "cell_type": "code",
   "execution_count": 13,
   "metadata": {
    "ExecuteTime": {
     "end_time": "2021-06-08T13:59:29.852299Z",
     "start_time": "2021-06-08T13:59:29.837302Z"
    }
   },
   "outputs": [
    {
     "data": {
      "text/plain": [
       "[<b>\n",
       "             bad\n",
       "             <i>\n",
       "                 HTML\n",
       "             </i>\n",
       " </b>]"
      ]
     },
     "execution_count": 13,
     "metadata": {},
     "output_type": "execute_result"
    }
   ],
   "source": [
    "soup.find_all('b')"
   ]
  },
  {
   "cell_type": "code",
   "execution_count": 16,
   "metadata": {
    "ExecuteTime": {
     "end_time": "2021-06-08T14:03:13.966742Z",
     "start_time": "2021-06-08T14:03:13.948742Z"
    }
   },
   "outputs": [
    {
     "data": {
      "text/plain": [
       "'\\n            bad\\n            \\n                HTML\\n            \\n'"
      ]
     },
     "execution_count": 16,
     "metadata": {},
     "output_type": "execute_result"
    }
   ],
   "source": [
    "soup.find_all('b')[0].text # gets the text in a specific tag"
   ]
  },
  {
   "cell_type": "code",
   "execution_count": 17,
   "metadata": {
    "ExecuteTime": {
     "end_time": "2021-06-08T14:03:38.403224Z",
     "start_time": "2021-06-08T14:03:33.928683Z"
    }
   },
   "outputs": [
    {
     "name": "stdout",
     "output_type": "stream",
     "text": [
      "Requirement already satisfied: requests in c:\\users\\kboys\\appdata\\local\\programs\\python\\python37\\lib\\site-packages (2.20.0)\n",
      "Requirement already satisfied: urllib3<1.25,>=1.21.1 in c:\\users\\kboys\\appdata\\local\\programs\\python\\python37\\lib\\site-packages (from requests) (1.24.3)\n",
      "Requirement already satisfied: chardet<3.1.0,>=3.0.2 in c:\\users\\kboys\\appdata\\local\\programs\\python\\python37\\lib\\site-packages (from requests) (3.0.4)\n",
      "Requirement already satisfied: idna<2.8,>=2.5 in c:\\users\\kboys\\appdata\\local\\programs\\python\\python37\\lib\\site-packages (from requests) (2.7)\n",
      "Requirement already satisfied: certifi>=2017.4.17 in c:\\users\\kboys\\appdata\\local\\programs\\python\\python37\\lib\\site-packages (from requests) (2019.11.28)\n"
     ]
    },
    {
     "name": "stderr",
     "output_type": "stream",
     "text": [
      "WARNING: You are using pip version 20.2.3; however, version 21.1.2 is available.\n",
      "You should consider upgrading via the 'c:\\users\\kboys\\appdata\\local\\programs\\python\\python37\\python.exe -m pip install --upgrade pip' command.\n"
     ]
    }
   ],
   "source": [
    "# !pip install requests"
   ]
  },
  {
   "cell_type": "markdown",
   "metadata": {
    "ExecuteTime": {
     "end_time": "2021-06-08T14:08:24.918897Z",
     "start_time": "2021-06-08T14:08:24.901898Z"
    }
   },
   "source": [
    "## USING REQUESTS MODULE WITH BS4\n",
    "<h2>This is a h2 tag</h2>"
   ]
  },
  {
   "cell_type": "code",
   "execution_count": 24,
   "metadata": {
    "ExecuteTime": {
     "end_time": "2021-06-08T14:09:20.160854Z",
     "start_time": "2021-06-08T14:09:20.152890Z"
    }
   },
   "outputs": [],
   "source": [
    "import requests \n",
    "import bs4"
   ]
  },
  {
   "cell_type": "code",
   "execution_count": 25,
   "metadata": {
    "ExecuteTime": {
     "end_time": "2021-06-08T14:12:00.101002Z",
     "start_time": "2021-06-08T14:12:00.097000Z"
    }
   },
   "outputs": [],
   "source": [
    "# step1 : make request to url\n",
    "# step2 : collect content of url response \n",
    "# step3 : create a beautiful soup object out of the content collected\n",
    "# step3 : continue to manipulate html data collected from the url as required."
   ]
  },
  {
   "cell_type": "code",
   "execution_count": 90,
   "metadata": {
    "ExecuteTime": {
     "end_time": "2021-06-08T14:59:00.696733Z",
     "start_time": "2021-06-08T14:58:47.590352Z"
    }
   },
   "outputs": [
    {
     "name": "stdout",
     "output_type": "stream",
     "text": [
      "Please enter query value : nvidia\n"
     ]
    }
   ],
   "source": [
    "query = input(\"Please enter query value : \").replace(\" \", \"+\")\n",
    "url = \"https://www.jumia.com.ng/catalog/?q={query}&page=2#catalog-listing\"\n",
    "\n",
    "response = requests.get(url.format(query = query))"
   ]
  },
  {
   "cell_type": "code",
   "execution_count": 91,
   "metadata": {
    "ExecuteTime": {
     "end_time": "2021-06-08T14:59:03.822355Z",
     "start_time": "2021-06-08T14:59:03.812350Z"
    }
   },
   "outputs": [],
   "source": [
    "# print(response.content)"
   ]
  },
  {
   "cell_type": "code",
   "execution_count": 92,
   "metadata": {
    "ExecuteTime": {
     "end_time": "2021-06-08T14:59:04.210777Z",
     "start_time": "2021-06-08T14:59:04.140413Z"
    }
   },
   "outputs": [],
   "source": [
    "html = response.content\n",
    "\n",
    "soup = bs4.BeautifulSoup(html) # step 3"
   ]
  },
  {
   "cell_type": "code",
   "execution_count": 93,
   "metadata": {
    "ExecuteTime": {
     "end_time": "2021-06-08T14:59:04.601663Z",
     "start_time": "2021-06-08T14:59:04.577660Z"
    }
   },
   "outputs": [
    {
     "data": {
      "text/plain": [
       "[<h3 class=\"name\">Hp Pavilion Gaming 15 Intel Core I7,16GB Optane, 8GB Ram, 1TB - 3GB NVIDIA Graphics,Win10</h3>,\n",
       " <h3 class=\"name\">Hp SPECTRE 15-EB0043DX X360 Intel Core I7,10th Gen16gb RAM,512SSD+32GB Optane,2GB Nvidia,Win 10</h3>,\n",
       " <h3 class=\"name\">DELL Inspiron 24 5000 23.8' I7 16GB 1TB+256GB 2GB NVIDIA \"Touch\" Desktop</h3>,\n",
       " <h3 class=\"name\">DELL G3 GAMING CORE I5-10300H 512SSD 8GB 4GB NVIDIA WIN10 Keyboard Light</h3>,\n",
       " <h3 class=\"name\">Hp OMEN 15 CORE I7 16GB RAM 512GB SSD + 1tb Hdd 4GB NVIDIA</h3>,\n",
       " <h3 class=\"name\">DELL XPS 17 9700 17'' UHD Intel Core I9-10th Gen 32GB  1TB SSD, NVIDIA GeForce RTX 2060 6GB GDDR6, Win10</h3>,\n",
       " <h3 class=\"name\">Hp Pavilion 15 9th Gen Intel Core, 8GB, 256SSD - 3GB NVIDIA Graphics,Gaming Laptop Wins10</h3>,\n",
       " <h3 class=\"name\">Lenovo Legion 5 15IMH05H Intel Core I7-10750H 512GB,8GB, 6GB NVIDIA 15.6\" Windows 10 H</h3>,\n",
       " <h3 class=\"name\">Hp OMEN X 15-dg0001na Core™ I7-9750H (2.6GHz Up To 4.5 GHz) 512GB 16GB RAM,8GB NVIDIA RTX 2070</h3>,\n",
       " <h3 class=\"name\">Hp SPECTRE 15-EB0043DX X360;Core I7-10TH Gen,16gb RAM,512SSD+32GB Optane,2GB Nvidia,TOUCH,Win 10</h3>,\n",
       " <h3 class=\"name\">DELL G3 GAMING CORE I5-10300H 512SSD 8GB 4GB NVIDIA WIN10 Keyboard Light</h3>,\n",
       " <h3 class=\"name\">Hp Pavilion 15 Gaming Intel Core I5, 8GB, 256SSD - 3GB NVIDIA Graphics,Win10</h3>,\n",
       " <h3 class=\"name\">GTX760 4GB DDR5 128Bit PCI-E VGA DVI HDMI Game Graphics Card For NVIDIA</h3>,\n",
       " <h3 class=\"name\">Hp SPECTRE 15-EB0043DX X360;Core I7-10TH Gen,16gb RAM,512SSD+32GB Optane,2GB Nvidia,TOUCH,Win 10</h3>,\n",
       " <h3 class=\"name\">GTX750Ti 2GB GDDR5 128Bit Graphics Card PCI-E VGA DVI HDMI For NVIDIA GeForce</h3>,\n",
       " <h3 class=\"name\">Hp Pavilion Gaming 15 Intel Core 17,16GB Optane, 8GB Ram, 1TB - 3GB NVIDIA Graphics,Win10</h3>,\n",
       " <h3 class=\"name\">Lenovo Legion Y540 Intel Core I7-9750H 512GB/16GB RAM Nvidia GeForce RTX 6GB</h3>,\n",
       " <h3 class=\"name\">Hp Pavilion 15 Intel Core I5 (1TB HDD,16GB RAM,2GB NVIDIA Graphics Wins 10</h3>,\n",
       " <h3 class=\"name\">Hp ENVY17 Intel Core I7 1.8 Up To 4.0GHz 4GB NVIDIA® GeForce® Dedicated(16GB RAM, 1TB HDD), 32GB Flash Drive, Wireless Mouse,led Lamp 17.3 Touchscreen Wins10</h3>,\n",
       " <h3 class=\"name\">Asus Q536FD-BI7T15 2-in-1: Core I7-8565U, 16 GB, 2TB HDD+256GB SSD,, 15.6\" UHD Touchscreen, 2GB NVIDIA</h3>,\n",
       " <h3 class=\"name\">DELL GAMING G7 7500 INTEL CORE I7 1TB SSD,16GB RAM(UPGRADABLE TO 32GB) 8GB RTX 2070 NVIDIA  WINS 10</h3>,\n",
       " <h3 class=\"name\">GTX960 4GB 4GD5 GDDR5 -Express Video Graphics Card HDMI For NVIDIA GeForce</h3>,\n",
       " <h3 class=\"name\">DELL Inspiron 27 I7 16GB 1TB HDD+512GBSSD 2GB NVIDIA \"TOUCH\" All-in-One</h3>,\n",
       " <h3 class=\"name\">Hp OMEN 15 15- Core I7-  10750H  512GB SSD 8GB RAM,6GB NVIDIA</h3>,\n",
       " <h3 class=\"name\">Lenovo Legion 5 15IMH05H Intel Core I7-10750H 8GB 512GB 6GB NVIDIA 15.6\" Windows 10 H</h3>,\n",
       " <h3 class=\"name\">Hp SPECTRE 15-EB0043DX X360;Core I7-10TH Gen,16gb RAM,512SSD+32GB Optane,2GB Nvidia,TOUCH,Win 10</h3>,\n",
       " <h3 class=\"name\">GTX960 4GB 4GD5 GDDR5 -Express Video Graphics Card HDMI For NVIDIA GeForce</h3>,\n",
       " <h3 class=\"name\">Msi GAMING TITAN GT75 Intel Core I7,2.2GHz Hexacore,256GB SSD,16GB RAM,8GB NVIDIA Windows 10</h3>,\n",
       " <h3 class=\"name\">Hp Pavilion Gaming Laptop-15.6\" Core I5-9300h, 3gb Nvidia 8gb Ram,1tb Hdd, Backlit Keyboard</h3>,\n",
       " <h3 class=\"name\">DELL G5 GAMING INTEL CORE I7 256GB SSD,8GB RAM(Upgradable To 32GB) 4GB NVIDIA BACKLIT KEYBOARD WINS 10</h3>,\n",
       " <h3 class=\"name\">Acer Predator Helios 300 Gaming:Core I7,512SSD/16GB,6GB Nvidia</h3>,\n",
       " <h3 class=\"name\">Hp Envy 13 8th Gen Intel Core I7-1.8 Up To 4.0Ghz (16GB,512GB SSD + 2GB NVIDIA GeFORCE)13.3-inch Wins 10</h3>,\n",
       " <h3 class=\"name\">DELL GAMING G7 7500 INTEL CORE I7 1TB SSD,16GB RAM(UPGRADABLE TO 32GB) 8GB RTX 2070 NVIDIA  WINS 10</h3>,\n",
       " <h3 class=\"name\">Hp OMEN X 15- Core I7- 4.5 GHz 1TB SSD 64GB RAM,8GB NVIDIA</h3>,\n",
       " <h3 class=\"name\">Hp Envy X360 Touch- 15- 10th Gen Intel® Core™ I7-512 Gb Ssd, 16 Gb Ram, 4gb Nvidia Win 10</h3>,\n",
       " <h3 class=\"name\">Hp ENVY 13-TOUCHSCREEN PC 10TH GEN INTEL CORE I7-16GB RAM- 1TB SSD-2GB NVIDIA-FINGERPRINT</h3>,\n",
       " <h3 class=\"name\">Hp OMEN 15 15- Core I7-  10750H  512GB SSD 8GB RAM,6GB NVIDIA</h3>,\n",
       " <h3 class=\"name\">Lenovo Legion Y545 15.6\" Gaming, Core I7-9750H,1TB HDD+512GB SSD 32GB RAM,6GB NVIDIA 1660Ti,BACKLIT,WIN 10</h3>,\n",
       " <h3 class=\"name\">Hp Omen 25L GT12 I7 16GB 256SSD+1TB HDD 8GB NVIDIA Desktop</h3>,\n",
       " <h3 class=\"name\">DELL GAMING G5 INTEL CORE I7 1TB HDD+128GB SSD, 16GB RAM(UPGRADABLE TO 32GB) 6GB NVIDIA BACKLIT KEYBOARD WINS 10</h3>,\n",
       " <h3 class=\"name\"></h3>,\n",
       " <h3 class=\"name\"></h3>,\n",
       " <h3 class=\"name\"></h3>,\n",
       " <h3 class=\"name\"></h3>,\n",
       " <h3 class=\"name\"></h3>,\n",
       " <h3 class=\"name\"></h3>,\n",
       " <h3 class=\"name\"></h3>,\n",
       " <h3 class=\"name\"></h3>]"
      ]
     },
     "execution_count": 93,
     "metadata": {},
     "output_type": "execute_result"
    }
   ],
   "source": [
    "(soup.find_all(\"h3\"))"
   ]
  },
  {
   "cell_type": "code",
   "execution_count": 94,
   "metadata": {
    "ExecuteTime": {
     "end_time": "2021-06-08T14:59:05.393962Z",
     "start_time": "2021-06-08T14:59:05.379966Z"
    }
   },
   "outputs": [
    {
     "name": "stdout",
     "output_type": "stream",
     "text": [
      "Hp Pavilion Gaming 15 Intel Core I7,16GB Optane, 8GB Ram, 1TB - 3GB NVIDIA Graphics,Win10\n",
      "Hp SPECTRE 15-EB0043DX X360 Intel Core I7,10th Gen16gb RAM,512SSD+32GB Optane,2GB Nvidia,Win 10\n",
      "DELL Inspiron 24 5000 23.8' I7 16GB 1TB+256GB 2GB NVIDIA \"Touch\" Desktop\n",
      "DELL G3 GAMING CORE I5-10300H 512SSD 8GB 4GB NVIDIA WIN10 Keyboard Light\n",
      "Hp OMEN 15 CORE I7 16GB RAM 512GB SSD + 1tb Hdd 4GB NVIDIA\n",
      "DELL XPS 17 9700 17'' UHD Intel Core I9-10th Gen 32GB  1TB SSD, NVIDIA GeForce RTX 2060 6GB GDDR6, Win10\n",
      "Hp Pavilion 15 9th Gen Intel Core, 8GB, 256SSD - 3GB NVIDIA Graphics,Gaming Laptop Wins10\n",
      "Lenovo Legion 5 15IMH05H Intel Core I7-10750H 512GB,8GB, 6GB NVIDIA 15.6\" Windows 10 H\n",
      "Hp OMEN X 15-dg0001na Core™ I7-9750H (2.6GHz Up To 4.5 GHz) 512GB 16GB RAM,8GB NVIDIA RTX 2070\n",
      "Hp SPECTRE 15-EB0043DX X360;Core I7-10TH Gen,16gb RAM,512SSD+32GB Optane,2GB Nvidia,TOUCH,Win 10\n",
      "DELL G3 GAMING CORE I5-10300H 512SSD 8GB 4GB NVIDIA WIN10 Keyboard Light\n",
      "Hp Pavilion 15 Gaming Intel Core I5, 8GB, 256SSD - 3GB NVIDIA Graphics,Win10\n",
      "GTX760 4GB DDR5 128Bit PCI-E VGA DVI HDMI Game Graphics Card For NVIDIA\n",
      "Hp SPECTRE 15-EB0043DX X360;Core I7-10TH Gen,16gb RAM,512SSD+32GB Optane,2GB Nvidia,TOUCH,Win 10\n",
      "GTX750Ti 2GB GDDR5 128Bit Graphics Card PCI-E VGA DVI HDMI For NVIDIA GeForce\n",
      "Hp Pavilion Gaming 15 Intel Core 17,16GB Optane, 8GB Ram, 1TB - 3GB NVIDIA Graphics,Win10\n",
      "Lenovo Legion Y540 Intel Core I7-9750H 512GB/16GB RAM Nvidia GeForce RTX 6GB\n",
      "Hp Pavilion 15 Intel Core I5 (1TB HDD,16GB RAM,2GB NVIDIA Graphics Wins 10\n",
      "Hp ENVY17 Intel Core I7 1.8 Up To 4.0GHz 4GB NVIDIA® GeForce® Dedicated(16GB RAM, 1TB HDD), 32GB Flash Drive, Wireless Mouse,led Lamp 17.3 Touchscreen Wins10\n",
      "Asus Q536FD-BI7T15 2-in-1: Core I7-8565U, 16 GB, 2TB HDD+256GB SSD,, 15.6\" UHD Touchscreen, 2GB NVIDIA\n",
      "DELL GAMING G7 7500 INTEL CORE I7 1TB SSD,16GB RAM(UPGRADABLE TO 32GB) 8GB RTX 2070 NVIDIA  WINS 10\n",
      "GTX960 4GB 4GD5 GDDR5 -Express Video Graphics Card HDMI For NVIDIA GeForce\n",
      "DELL Inspiron 27 I7 16GB 1TB HDD+512GBSSD 2GB NVIDIA \"TOUCH\" All-in-One\n",
      "Hp OMEN 15 15- Core I7-  10750H  512GB SSD 8GB RAM,6GB NVIDIA\n",
      "Lenovo Legion 5 15IMH05H Intel Core I7-10750H 8GB 512GB 6GB NVIDIA 15.6\" Windows 10 H\n",
      "Hp SPECTRE 15-EB0043DX X360;Core I7-10TH Gen,16gb RAM,512SSD+32GB Optane,2GB Nvidia,TOUCH,Win 10\n",
      "GTX960 4GB 4GD5 GDDR5 -Express Video Graphics Card HDMI For NVIDIA GeForce\n",
      "Msi GAMING TITAN GT75 Intel Core I7,2.2GHz Hexacore,256GB SSD,16GB RAM,8GB NVIDIA Windows 10\n",
      "Hp Pavilion Gaming Laptop-15.6\" Core I5-9300h, 3gb Nvidia 8gb Ram,1tb Hdd, Backlit Keyboard\n",
      "DELL G5 GAMING INTEL CORE I7 256GB SSD,8GB RAM(Upgradable To 32GB) 4GB NVIDIA BACKLIT KEYBOARD WINS 10\n",
      "Acer Predator Helios 300 Gaming:Core I7,512SSD/16GB,6GB Nvidia\n",
      "Hp Envy 13 8th Gen Intel Core I7-1.8 Up To 4.0Ghz (16GB,512GB SSD + 2GB NVIDIA GeFORCE)13.3-inch Wins 10\n",
      "DELL GAMING G7 7500 INTEL CORE I7 1TB SSD,16GB RAM(UPGRADABLE TO 32GB) 8GB RTX 2070 NVIDIA  WINS 10\n",
      "Hp OMEN X 15- Core I7- 4.5 GHz 1TB SSD 64GB RAM,8GB NVIDIA\n",
      "Hp Envy X360 Touch- 15- 10th Gen Intel® Core™ I7-512 Gb Ssd, 16 Gb Ram, 4gb Nvidia Win 10\n",
      "Hp ENVY 13-TOUCHSCREEN PC 10TH GEN INTEL CORE I7-16GB RAM- 1TB SSD-2GB NVIDIA-FINGERPRINT\n",
      "Hp OMEN 15 15- Core I7-  10750H  512GB SSD 8GB RAM,6GB NVIDIA\n",
      "Lenovo Legion Y545 15.6\" Gaming, Core I7-9750H,1TB HDD+512GB SSD 32GB RAM,6GB NVIDIA 1660Ti,BACKLIT,WIN 10\n",
      "Hp Omen 25L GT12 I7 16GB 256SSD+1TB HDD 8GB NVIDIA Desktop\n",
      "DELL GAMING G5 INTEL CORE I7 1TB HDD+128GB SSD, 16GB RAM(UPGRADABLE TO 32GB) 6GB NVIDIA BACKLIT KEYBOARD WINS 10\n",
      "\n",
      "\n",
      "\n",
      "\n",
      "\n",
      "\n",
      "\n",
      "\n"
     ]
    }
   ],
   "source": [
    "soup.find_all(\"h3\")[0].text\n",
    "\n",
    "for product in soup.find_all(\"h3\"):\n",
    "    print(product.text)"
   ]
  },
  {
   "cell_type": "code",
   "execution_count": 86,
   "metadata": {
    "ExecuteTime": {
     "end_time": "2021-06-08T14:55:48.544098Z",
     "start_time": "2021-06-08T14:55:48.523101Z"
    }
   },
   "outputs": [
    {
     "data": {
      "text/plain": [
       "[<div class=\"prc\">₦ 11,400</div>,\n",
       " <div class=\"prc\">₦ 4,500</div>,\n",
       " <div class=\"prc\">₦ 42,560</div>,\n",
       " <div class=\"prc\">₦ 9,000</div>,\n",
       " <div class=\"prc\">₦ 130,800</div>,\n",
       " <div class=\"prc\">₦ 13,500</div>,\n",
       " <div class=\"prc\">₦ 131,000</div>,\n",
       " <div class=\"prc\">₦ 18,800</div>,\n",
       " <div class=\"prc\">₦ 124,999</div>,\n",
       " <div class=\"prc\">₦ 10,950</div>,\n",
       " <div class=\"prc\">₦ 19,450</div>,\n",
       " <div class=\"prc\">₦ 129,999</div>,\n",
       " <div class=\"prc\">₦ 229,900</div>,\n",
       " <div class=\"prc\">₦ 168,790</div>,\n",
       " <div class=\"prc\">₦ 4,990</div>,\n",
       " <div class=\"prc\">₦ 163,000</div>,\n",
       " <div class=\"prc\">₦ 4,450</div>,\n",
       " <div class=\"prc\">₦ 10,990</div>,\n",
       " <div class=\"prc\">₦ 155,000</div>,\n",
       " <div class=\"prc\">₦ 11,000</div>,\n",
       " <div class=\"prc\">₦ 7,500</div>,\n",
       " <div class=\"prc\">₦ 3,057</div>,\n",
       " <div class=\"prc\">₦ 9,100</div>,\n",
       " <div class=\"prc\">₦ 55,000</div>,\n",
       " <div class=\"prc\">₦ 139,999</div>,\n",
       " <div class=\"prc\">₦ 148,000</div>,\n",
       " <div class=\"prc\">₦ 3,500</div>,\n",
       " <div class=\"prc\">₦ 3,500 - ₦ 3,999</div>,\n",
       " <div class=\"prc\">₦ 2,480</div>,\n",
       " <div class=\"prc\">₦ 3,450</div>,\n",
       " <div class=\"prc\">₦ 17,500</div>,\n",
       " <div class=\"prc\">₦ 10,500</div>,\n",
       " <div class=\"prc\">₦ 26,800</div>,\n",
       " <div class=\"prc\">₦ 6,349</div>,\n",
       " <div class=\"prc\">₦ 8,000</div>,\n",
       " <div class=\"prc\">₦ 159,999</div>,\n",
       " <div class=\"prc\">₦ 2,899</div>,\n",
       " <div class=\"prc\">₦ 50,000</div>,\n",
       " <div class=\"prc\">₦ 4,500</div>,\n",
       " <div class=\"prc\">₦ 18,729</div>,\n",
       " <div class=\"prc\"></div>,\n",
       " <div class=\"prc\"></div>,\n",
       " <div class=\"prc\"></div>,\n",
       " <div class=\"prc\"></div>,\n",
       " <div class=\"prc\"></div>,\n",
       " <div class=\"prc\"></div>,\n",
       " <div class=\"prc\"></div>,\n",
       " <div class=\"prc\"></div>]"
      ]
     },
     "execution_count": 86,
     "metadata": {},
     "output_type": "execute_result"
    }
   ],
   "source": [
    "(soup.find_all(\"div\", {\"class\":\"prc\"})) # fetch using specific class or id"
   ]
  },
  {
   "cell_type": "code",
   "execution_count": 87,
   "metadata": {
    "ExecuteTime": {
     "end_time": "2021-06-08T14:55:54.551360Z",
     "start_time": "2021-06-08T14:55:49.364478Z"
    }
   },
   "outputs": [],
   "source": [
    "url = \"https://www.jumia.com.ng/catalog/?q=xbox+1&page={page}#catalog-listing\"\n",
    "\n",
    "for page in range(1,4):\n",
    "\n",
    "    response = requests.get(url.format(page = page))"
   ]
  },
  {
   "cell_type": "code",
   "execution_count": 72,
   "metadata": {
    "ExecuteTime": {
     "end_time": "2021-06-08T14:47:19.805743Z",
     "start_time": "2021-06-08T14:47:19.783738Z"
    }
   },
   "outputs": [
    {
     "data": {
      "text/plain": [
       "<div class=\"prc\">₦ 33,000</div>"
      ]
     },
     "execution_count": 72,
     "metadata": {},
     "output_type": "execute_result"
    }
   ],
   "source": [
    "# soup.find_all(\"div\", {\"class\":\"info\"})\n",
    "list(soup.find_all(\"div\", {\"class\":\"info\"})[4].children)[1]"
   ]
  },
  {
   "cell_type": "code",
   "execution_count": 88,
   "metadata": {
    "ExecuteTime": {
     "end_time": "2021-06-08T14:55:54.677963Z",
     "start_time": "2021-06-08T14:55:54.632924Z"
    }
   },
   "outputs": [
    {
     "name": "stdout",
     "output_type": "stream",
     "text": [
      "Arctic Mini USB Powered Air Conditioning ₦ 11,400\n",
      "Mini Portable Air Conditioner /Cooling Fan ₦ 4,500\n",
      "World Elite Air Cooler ₦ 42,560\n",
      "Dp D.p 3 In1 Rechargble Cooling Fan . Power Bank & Lights ₦ 9,000\n",
      "Midea 1.5HP Split Unit Air Conditioner  + Installation Kit ₦ 130,800\n",
      "Arctic Air Ultra Mini Portable AC Mini Cooler ₦ 13,500\n",
      "Hisense 1.5hp Split Air Conditioner 100% Copper ₦ 131,000\n",
      "Portable Air Conditioner Fan Mini Evaporative Air Cooler - White ₦ 18,800\n",
      "Midea 1HP Split Air Conditioner + FREE INSTALLATION KIT ₦ 124,999\n",
      "Arctic Air Personal Space Cooler, Portable Air Conditioner ₦ 10,950\n",
      "Cooling And Humidifying Of Mini Desktop Air Conditioning Fan ₦ 19,450\n",
      "Bruhm 1.5HP Split Air Conditioner Plus Installation Kit  ₦ 129,999\n",
      "Hisense 2HP INVERTER COPPER SPLIT AIR CONDITIONER R410A GAS-AS18DK ₦ 229,900\n",
      "LG 1HP Gencool - B Inverter Split Unit Airconditioner  - 100%COPPER ₦ 168,790\n",
      "Mini Air Conditioner  Fan ₦ 4,990\n",
      "Hisense 1.5HP Inverter Split Air Conditioner-100%Copper Super Fast Cooling ₦ 163,000\n",
      "Shipped from abroad Multifunctional Travel Adapter International Plug Dual USB Charging Port Universal AC Socket\n",
      "Arctic Air Personal Space Cooler & USB Mini Fan Mini AC ₦ 10,990\n",
      "Gree 1.5HP  Split Air Conditioner + Installation Kits ₦ 155,000\n",
      "Arctic Air Ultra Mini Portable AC/Cooler ₦ 11,000\n",
      "Crown Widescreen Notebook Cooler CMLS-937 ₦ 7,500\n",
      "Stainless Steel External Extractor Wall Vent Outlet 6 Inch ₦ 3,057\n",
      "Havit HV-F2051 Laptop Cooling Pad - Double Fan ₦ 9,100\n",
      "Beldray 6 Litre Air Cooler, Purifies & Ionises ₦ 55,000\n",
      "Midea 1.5HP Comfort Series Split Unit Air Conditioner MSAF-12CR + Installation Kit ₦ 139,999\n",
      "Hisense 1HP Inverter Split Air Conditioner -100%Copper Condenser-Super Cooling Can Work With Small Gen ₦ 148,000\n",
      "HANDY RECHARGEBLE MINI FAN ₦ 3,500\n",
      "Shipped from abroad Neutral Non-slip Adjustable Laptop Stand Folding Portable For Notebook MacBook Bracket Lifting Cooling Holder\n",
      "Car Auto Heater Hot Cool Fan Windscreen Window Demister Defroster-12V ₦ 2,480\n",
      "Mini Portable Cooling Fan ₦ 3,450\n",
      "Arctic Cooling USB Mini Fan Arctic Air Ultra Compact Air Conditioner 2X ₦ 17,500\n",
      "Havit HV-F2051 Laptop Cooling Pad - Double Fan 2051 ₦ 10,500\n",
      "Arctic Cooling USB Mini Fan Arctic Air Ultra Compact Air Conditioner 2X ₦ 26,800\n",
      "Shipped from abroad Fusojkh 24W AC/DC 12V 2A Power Supply Adaptor 3 PIN UK Plug For 5050 LED Lights Strips\n",
      "Antarctic Evaporative Air Cooler  (Mini AC) ₦ 8,000\n",
      "Panasonic 1.5HP Split Air Conditioner ₦ 159,999\n",
      "Cake Cooling Rack / Bread Cooling Rack ₦ 2,899\n",
      "Portable Air Conditioner Fan ₦ 50,000\n",
      "BTE Universal AC/DC Power Supply Adaptor Plug ₦ 4,500\n",
      "Shipped from abroad Mini Desktop Air Conditioner Fan Cooling Humidifying B White\n",
      " \n",
      " \n",
      " \n",
      " \n",
      " \n",
      " \n",
      " \n",
      " \n"
     ]
    }
   ],
   "source": [
    "for product_card in soup.find_all(\"div\", {\"class\":\"info\"}):\n",
    "    \n",
    "    children = list(product_card.children)\n",
    "    \n",
    "    product_name = children[0].text\n",
    "    product_price = children[1].text\n",
    "    \n",
    "    print(product_name, product_price)"
   ]
  }
 ],
 "metadata": {
  "hide_input": false,
  "kernelspec": {
   "display_name": "Python 3",
   "language": "python",
   "name": "python3"
  },
  "language_info": {
   "codemirror_mode": {
    "name": "ipython",
    "version": 3
   },
   "file_extension": ".py",
   "mimetype": "text/x-python",
   "name": "python",
   "nbconvert_exporter": "python",
   "pygments_lexer": "ipython3",
   "version": "3.7.8"
  },
  "varInspector": {
   "cols": {
    "lenName": 16,
    "lenType": 16,
    "lenVar": 40
   },
   "kernels_config": {
    "python": {
     "delete_cmd_postfix": "",
     "delete_cmd_prefix": "del ",
     "library": "var_list.py",
     "varRefreshCmd": "print(var_dic_list())"
    },
    "r": {
     "delete_cmd_postfix": ") ",
     "delete_cmd_prefix": "rm(",
     "library": "var_list.r",
     "varRefreshCmd": "cat(var_dic_list()) "
    }
   },
   "types_to_exclude": [
    "module",
    "function",
    "builtin_function_or_method",
    "instance",
    "_Feature"
   ],
   "window_display": false
  }
 },
 "nbformat": 4,
 "nbformat_minor": 4
}

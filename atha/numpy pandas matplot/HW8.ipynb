{
 "cells": [
  {
   "cell_type": "markdown",
   "metadata": {},
   "source": [
    "# Arrays and Loops"
   ]
  },
  {
   "cell_type": "markdown",
   "metadata": {},
   "source": [
    "## Problem 1"
   ]
  },
  {
   "cell_type": "markdown",
   "metadata": {},
   "source": [
    "Import Numpy \n",
    "\n",
    "a) Create an array of 50 ones called $x$.\n",
    "\n",
    "b) Create an array from 1-20 with 50 equally-spaced elements two different ways (using a loop and a single command). Call the two arrays $y$ and $z$.\n",
    "\n",
    "c) Subtract $y$ from $z$ and report the sum of the absolute difference of each element to show that they are the same.\n"
   ]
  },
  {
   "cell_type": "markdown",
   "metadata": {},
   "source": [
    "# A.)"
   ]
  },
  {
   "cell_type": "code",
   "execution_count": 1,
   "metadata": {},
   "outputs": [],
   "source": [
    "import numpy as np\n",
    "x = np.ones(50)"
   ]
  },
  {
   "cell_type": "markdown",
   "metadata": {},
   "source": [
    "# B.)"
   ]
  },
  {
   "cell_type": "code",
   "execution_count": 2,
   "metadata": {},
   "outputs": [
    {
     "name": "stdout",
     "output_type": "stream",
     "text": [
      "[ 1.          1.3877551   1.7755102   2.16326531  2.55102041  2.93877551\n",
      "  3.32653061  3.71428571  4.10204082  4.48979592  4.87755102  5.26530612\n",
      "  5.65306122  6.04081633  6.42857143  6.81632653  7.20408163  7.59183673\n",
      "  7.97959184  8.36734694  8.75510204  9.14285714  9.53061224  9.91836735\n",
      " 10.30612245 10.69387755 11.08163265 11.46938776 11.85714286 12.24489796\n",
      " 12.63265306 13.02040816 13.40816327 13.79591837 14.18367347 14.57142857\n",
      " 14.95918367 15.34693878 15.73469388 16.12244898 16.51020408 16.89795918\n",
      " 17.28571429 17.67346939 18.06122449 18.44897959 18.83673469 19.2244898\n",
      " 19.6122449  20.        ]\n"
     ]
    }
   ],
   "source": [
    "y = np.zeros(50)\n",
    "interval = 19/49\n",
    "\n",
    "for i in range(50):\n",
    "    y[i] = i * interval + 1\n",
    "\n",
    "print(y)"
   ]
  },
  {
   "cell_type": "markdown",
   "metadata": {},
   "source": [
    "# C.)"
   ]
  },
  {
   "cell_type": "code",
   "execution_count": 3,
   "metadata": {},
   "outputs": [
    {
     "name": "stdout",
     "output_type": "stream",
     "text": [
      "[ 1.          1.3877551   1.7755102   2.16326531  2.55102041  2.93877551\n",
      "  3.32653061  3.71428571  4.10204082  4.48979592  4.87755102  5.26530612\n",
      "  5.65306122  6.04081633  6.42857143  6.81632653  7.20408163  7.59183673\n",
      "  7.97959184  8.36734694  8.75510204  9.14285714  9.53061224  9.91836735\n",
      " 10.30612245 10.69387755 11.08163265 11.46938776 11.85714286 12.24489796\n",
      " 12.63265306 13.02040816 13.40816327 13.79591837 14.18367347 14.57142857\n",
      " 14.95918367 15.34693878 15.73469388 16.12244898 16.51020408 16.89795918\n",
      " 17.28571429 17.67346939 18.06122449 18.44897959 18.83673469 19.2244898\n",
      " 19.6122449  20.        ]\n"
     ]
    }
   ],
   "source": [
    "z = np.linspace(1,20,50)\n",
    "print(z)"
   ]
  },
  {
   "cell_type": "code",
   "execution_count": 4,
   "metadata": {},
   "outputs": [
    {
     "name": "stdout",
     "output_type": "stream",
     "text": [
      "0.0\n"
     ]
    }
   ],
   "source": [
    "absolute_sum_of_difference = np.sum(abs(z-y))\n",
    "print(absolute_sum_of_difference)"
   ]
  },
  {
   "cell_type": "markdown",
   "metadata": {},
   "source": [
    "## Problem 2"
   ]
  },
  {
   "cell_type": "markdown",
   "metadata": {},
   "source": [
    "import the python package \"random\"\n",
    "\n",
    "a) Create a matrix, $M$, as a 1x1 numpy array of value 1\n",
    "\n",
    "b) Using a while loop, append a random integer between 1 and 10 to the end of matrix $M$ until the last element is a 7.\n",
    "\n",
    "c) Report the number of elements in $M$ and the mean value of the elements after the loop.\n",
    "\n",
    "d) Also, because a while loop is easily susceptible to infinite loops, create a variable $i$ to keep track of how many times you have gone through the while loop. If $i$ exceeds 30, immediately exit the while loop. Don't report the matrix size using $i$.\n",
    "\n",
    "You may need to search online (e.g. Google) how to create a random integer using the random package and how to append elements to a numpy array. "
   ]
  },
  {
   "cell_type": "markdown",
   "metadata": {},
   "source": [
    "# A.)"
   ]
  },
  {
   "cell_type": "code",
   "execution_count": 17,
   "metadata": {},
   "outputs": [
    {
     "name": "stdout",
     "output_type": "stream",
     "text": [
      "Original array ==>>  [1.]\n",
      "\n",
      " [1. 5. 5. 8. 8. 5. 8. 3. 9. 5. 2. 9. 9. 1. 5. 6. 5. 4. 3. 6. 5. 2. 4. 9.\n",
      " 5. 2. 4. 1. 9. 9. 6.] \n",
      "\n",
      "Lenght of M =  31\n",
      "Mean of M =  5.258064516129032\n"
     ]
    }
   ],
   "source": [
    "import random as rand\n",
    "\n",
    "M = np.ones(1)\n",
    "print(\"Original array ==>> \",M)\n",
    "\n",
    "i = 0\n",
    "while M[-1] != 7:\n",
    "    \n",
    "    i += 1\n",
    "    \n",
    "    if i > 30:\n",
    "        break\n",
    "        \n",
    "    randnum = rand.randint(1,10)\n",
    "    M = np.append(M,randnum) \n",
    "    \n",
    "    \n",
    "    \n",
    "print(\"\\n\",M,\"\\n\")\n",
    "print(\"Lenght of M = \",len(M))\n",
    "print(\"Mean of M = \", M.mean())"
   ]
  },
  {
   "cell_type": "markdown",
   "metadata": {},
   "source": [
    "## Problem 3"
   ]
  },
  {
   "cell_type": "markdown",
   "metadata": {},
   "source": [
    "Using the following array, $a$:\n",
    "\n",
    "Reshape the array to a 5x5 matrix (using a numpy command)\n",
    "\n",
    "Loop through each element of the array. If the element value is 5 or 8, print the element index. Also, keep track of how many 5s and 8s there are with variable $k$. Print $k$. If the element value is a 1, print \"You win!\""
   ]
  },
  {
   "cell_type": "code",
   "execution_count": 18,
   "metadata": {},
   "outputs": [
    {
     "name": "stdout",
     "output_type": "stream",
     "text": [
      "[[ 8.  3. 10.  8.  2.]\n",
      " [ 2. 10. 10.  5. 10.]\n",
      " [ 2. 10.  9. 10.  9.]\n",
      " [ 4.  2.  8.  7.  4.]\n",
      " [ 1.  4.  5.  6.  6.]]\n",
      "8.0 at position (0,0)\n",
      "8.0 at position (0,3)\n",
      "5.0 at position (1,3)\n",
      "8.0 at position (3,2)\n",
      "\n",
      "You Win!\n",
      "\n",
      "5.0 at position (4,2)\n",
      "\n",
      "Total 5's ==>2 \n",
      "Total 8's ==>3\n"
     ]
    }
   ],
   "source": [
    "a = np.array([  8.,3.,10.,8.,2.,2.,10.,10.,5.,10.,2.,10.,9.,10.,9.,4.,2.,8.,7.,4.,1.,4.,5.,6.,6.])\n",
    "a = a.reshape(5,5)\n",
    "k = [0,0]\n",
    "print(a)\n",
    "for i in np.arange(np.size(a,0)):\n",
    "    for j in np.arange(np.size(a,1)):\n",
    "        if a[i,j] == 1:\n",
    "            print(\"\\nYou Win!\\n\")\n",
    "        if a[i,j] == 5:\n",
    "            k[0] += 1\n",
    "            print(f\"{a[i,j]} at position ({i},{j})\")\n",
    "        elif a[i,j] == 8:\n",
    "            print(f\"{a[i,j]} at position ({i},{j})\")\n",
    "            k[1] += 1\n",
    "            \n",
    "print(f\"\\nTotal 5's ==>{k[0]} \\nTotal 8's ==>{k[1]}\")"
   ]
  },
  {
   "cell_type": "markdown",
   "metadata": {},
   "source": [
    "## Problem 4"
   ]
  },
  {
   "cell_type": "markdown",
   "metadata": {},
   "source": [
    "For the following arrays (matrices and vectors):\n",
    "\n",
    "$A = \\begin{bmatrix}\n",
    "1 & 2 & 3\\\\ \n",
    "4 & 5 & 6\\\\ \n",
    "7 & 8 & 9\n",
    "\\end{bmatrix}$\n",
    "\n",
    "$x = \\begin{bmatrix}\n",
    "1\\\\ \n",
    "3\\\\ \n",
    "4\n",
    "\\end{bmatrix}$\n",
    "\n",
    "$B = \\begin{bmatrix}\n",
    "-0.1 & -0.2 & -0.3\\\\ \n",
    "3 & 10 & 2\\\\ \n",
    "4 & 2 & 0.5\n",
    "\\end{bmatrix} $\n",
    "\n",
    "Perform the following operations:\n",
    "\n",
    "a) $A \\circ B$ (element-wise multiplication)\n",
    "\n",
    "b) $A \\bullet B$ (dot product multiplication)\n",
    "\n",
    "c) $A \\times B$ (cross product multiplication)\n",
    "\n",
    "d) $A \\bullet x$\n",
    "\n",
    "e) $A^{-1} \\bullet B$"
   ]
  },
  {
   "cell_type": "code",
   "execution_count": 7,
   "metadata": {},
   "outputs": [],
   "source": [
    "A = np.array([[1,2,3],[4,5,6],[7,8,9]])\n",
    "x = np.array([[1],[3],[4]])\n",
    "B = np.array([[-0.1,-0.2,-0.3],[3,10,2],[4,2,0.5]])"
   ]
  },
  {
   "cell_type": "code",
   "execution_count": 8,
   "metadata": {},
   "outputs": [
    {
     "name": "stdout",
     "output_type": "stream",
     "text": [
      "[[-0.1 -0.4 -0.9]\n",
      " [12.  50.  12. ]\n",
      " [28.  16.   4.5]]\n"
     ]
    }
   ],
   "source": [
    "print(A*B) #element wise multiplication"
   ]
  },
  {
   "cell_type": "code",
   "execution_count": 9,
   "metadata": {},
   "outputs": [
    {
     "name": "stdout",
     "output_type": "stream",
     "text": [
      "[[17.9 25.8  5.2]\n",
      " [38.6 61.2 11.8]\n",
      " [59.3 96.6 18.4]]\n"
     ]
    }
   ],
   "source": [
    "print(np.dot(A,B))"
   ]
  },
  {
   "cell_type": "code",
   "execution_count": 10,
   "metadata": {},
   "outputs": [
    {
     "name": "stdout",
     "output_type": "stream",
     "text": [
      "[[ 1.11022302e-16 -5.55111512e-17  0.00000000e+00]\n",
      " [-5.00000000e+01  1.00000000e+01  2.50000000e+01]\n",
      " [-1.40000000e+01  3.25000000e+01 -1.80000000e+01]]\n"
     ]
    }
   ],
   "source": [
    "print(np.cross(A,B))"
   ]
  },
  {
   "cell_type": "code",
   "execution_count": 11,
   "metadata": {},
   "outputs": [
    {
     "name": "stdout",
     "output_type": "stream",
     "text": [
      "[[19]\n",
      " [43]\n",
      " [67]]\n"
     ]
    }
   ],
   "source": [
    "print(np.dot(A,x))"
   ]
  },
  {
   "cell_type": "code",
   "execution_count": 12,
   "metadata": {},
   "outputs": [
    {
     "name": "stdout",
     "output_type": "stream",
     "text": [
      "[[ 9.45755922e+15  8.19655132e+16  1.71136786e+16]\n",
      " [-1.89151184e+16 -1.63931026e+17 -3.42273572e+16]\n",
      " [ 9.45755922e+15  8.19655132e+16  1.71136786e+16]]\n"
     ]
    }
   ],
   "source": [
    "inv_A = np.linalg.inv(A)\n",
    "print(np.dot(inv_A, B))"
   ]
  }
 ],
 "metadata": {
  "kernelspec": {
   "display_name": "Python 3",
   "language": "python",
   "name": "python3"
  },
  "language_info": {
   "codemirror_mode": {
    "name": "ipython",
    "version": 3
   },
   "file_extension": ".py",
   "mimetype": "text/x-python",
   "name": "python",
   "nbconvert_exporter": "python",
   "pygments_lexer": "ipython3",
   "version": "3.7.0"
  }
 },
 "nbformat": 4,
 "nbformat_minor": 1
}

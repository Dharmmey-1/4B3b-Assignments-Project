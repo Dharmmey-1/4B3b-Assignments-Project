{
 "cells": [
  {
   "cell_type": "code",
   "execution_count": 17,
   "metadata": {
    "ExecuteTime": {
     "end_time": "2021-06-10T11:12:17.537963Z",
     "start_time": "2021-06-10T11:12:17.521954Z"
    }
   },
   "outputs": [],
   "source": [
    "import pymysql.cursors\n",
    "\n",
    "# Connect to the database\n",
    "connection = pymysql.connect(host='localhost',\n",
    "                             user='root',\n",
    "                             password='',\n",
    "                             database='note',\n",
    "                             cursorclass=pymysql.cursors.DictCursor)"
   ]
  },
  {
   "cell_type": "code",
   "execution_count": 15,
   "metadata": {
    "ExecuteTime": {
     "end_time": "2021-06-10T11:12:01.494310Z",
     "start_time": "2021-06-10T11:12:01.473240Z"
    }
   },
   "outputs": [],
   "source": [
    "with connection.cursor() as cursor:\n",
    "    # Create a new record\n",
    "    sql = \"INSERT INTO `users` (`name`, `age`, `gender`) VALUES ('sam', 29, 'male')\"\n",
    "    cursor.execute(sql)\n",
    "\n",
    "# connection is not autocommit by default. So you must commit to save\n",
    "# your changes.\n",
    "connection.commit()"
   ]
  },
  {
   "cell_type": "code",
   "execution_count": 12,
   "metadata": {
    "ExecuteTime": {
     "end_time": "2021-06-10T10:51:32.331135Z",
     "start_time": "2021-06-10T10:51:32.312129Z"
    }
   },
   "outputs": [
    {
     "name": "stdout",
     "output_type": "stream",
     "text": [
      "[{'id': 1, 'name': 'Atha', 'gender': 'm', 'age': 30}, {'id': 2, 'name': 'okon', 'gender': 'm', 'age': 30}]\n"
     ]
    }
   ],
   "source": [
    "with connection.cursor() as cursor:\n",
    "    # Create a new record\n",
    "    sql = \"select * from users\"\n",
    "    cursor.execute(sql)\n",
    "\n",
    "    result = cursor.fetchmany(2)\n",
    "    print(result)"
   ]
  },
  {
   "cell_type": "code",
   "execution_count": null,
   "metadata": {},
   "outputs": [],
   "source": []
  },
  {
   "cell_type": "code",
   "execution_count": 18,
   "metadata": {
    "ExecuteTime": {
     "end_time": "2021-06-10T11:12:23.794486Z",
     "start_time": "2021-06-10T11:12:23.776483Z"
    }
   },
   "outputs": [],
   "source": [
    "# create a new table\n",
    "\n",
    "with connection.cursor() as cursor:\n",
    "    # Create a new record\n",
    "    sql = \"\"\"CREATE TABLE `exams` (\n",
    "            `id` int(11) NOT NULL AUTO_INCREMENT PRIMARY KEY,\n",
    "            `user_id` int(11),\n",
    "            `course_title` varchar(255),\n",
    "            `units` varchar(255),\n",
    "            `score` varchar(255),\n",
    "            FOREIGN KEY (user_id) REFERENCES users(`id`)\n",
    "            ) ;\"\"\"\n",
    "    cursor.execute(sql)\n",
    "\n",
    "connection.commit()"
   ]
  },
  {
   "cell_type": "code",
   "execution_count": 22,
   "metadata": {
    "ExecuteTime": {
     "end_time": "2021-06-10T12:20:55.869058Z",
     "start_time": "2021-06-10T12:20:55.852058Z"
    }
   },
   "outputs": [],
   "source": [
    "with connection.cursor() as cursor:\n",
    "    # Create a new record\n",
    "    sql = \"INSERT INTO `exams` (user_id, course_title,units,score) VALUES (4, 'conflict resolution', 3, 66)\"\n",
    "    cursor.execute(sql)\n",
    "\n",
    "# connection is not autocommit by default. So you must commit to save\n",
    "# your changes.\n",
    "connection.commit()"
   ]
  },
  {
   "cell_type": "code",
   "execution_count": 68,
   "metadata": {
    "ExecuteTime": {
     "end_time": "2021-06-10T12:59:08.872783Z",
     "start_time": "2021-06-10T12:59:08.857786Z"
    }
   },
   "outputs": [],
   "source": [
    "def add_new_user(username, age, gender):\n",
    "    \n",
    "    with connection.cursor() as cursor:\n",
    "    # Create a new record\n",
    "        sql = f\"INSERT INTO `users` (name, age, gender) VALUES ('{username}', '{age}', '{gender}')\"\n",
    "        cursor.execute(sql)\n",
    "\n",
    "    # connection is not autocommit by default. So you must commit to save\n",
    "    # your changes.\n",
    "    connection.commit()\n",
    "    "
   ]
  },
  {
   "cell_type": "code",
   "execution_count": 27,
   "metadata": {
    "ExecuteTime": {
     "end_time": "2021-06-10T12:24:33.872883Z",
     "start_time": "2021-06-10T12:24:33.864921Z"
    }
   },
   "outputs": [],
   "source": [
    "def read_data():\n",
    "    with connection.cursor() as cursor:\n",
    "        # Create a new record\n",
    "        sql = \"select * from users\"\n",
    "        cursor.execute(sql)\n",
    "\n",
    "        result = cursor.fetchall()\n",
    "#         print(result)\n",
    "        \n",
    "    return result"
   ]
  },
  {
   "cell_type": "code",
   "execution_count": 58,
   "metadata": {
    "ExecuteTime": {
     "end_time": "2021-06-10T12:47:27.053946Z",
     "start_time": "2021-06-10T12:47:27.030949Z"
    }
   },
   "outputs": [],
   "source": [
    "def get_id(username):\n",
    "    with connection.cursor() as cursor:\n",
    "        # Create a new record\n",
    "        sql = f\"select * from users where name = '{username}';\"\n",
    "        cursor.execute(sql)\n",
    "\n",
    "        result = cursor.fetchall()\n",
    "#         print(result)\n",
    "        \n",
    "    if len(result)<1:\n",
    "        return False\n",
    "    else:\n",
    "        return result[0].get('id')"
   ]
  },
  {
   "cell_type": "code",
   "execution_count": 60,
   "metadata": {
    "ExecuteTime": {
     "end_time": "2021-06-10T12:47:40.237820Z",
     "start_time": "2021-06-10T12:47:40.223823Z"
    }
   },
   "outputs": [
    {
     "data": {
      "text/plain": [
       "2"
      ]
     },
     "execution_count": 60,
     "metadata": {},
     "output_type": "execute_result"
    }
   ],
   "source": [
    "get_id(\"okon\")"
   ]
  },
  {
   "cell_type": "code",
   "execution_count": 31,
   "metadata": {
    "ExecuteTime": {
     "end_time": "2021-06-10T12:25:01.218759Z",
     "start_time": "2021-06-10T12:25:01.206757Z"
    }
   },
   "outputs": [],
   "source": [
    "def display_data(data):\n",
    "    for entry in data:\n",
    "        print(entry[\"id\"], entry[\"name\"])"
   ]
  },
  {
   "cell_type": "markdown",
   "metadata": {},
   "source": [
    "### USING READ DATA FUNCTION"
   ]
  },
  {
   "cell_type": "code",
   "execution_count": 39,
   "metadata": {
    "ExecuteTime": {
     "end_time": "2021-06-10T12:29:38.034870Z",
     "start_time": "2021-06-10T12:29:38.024884Z"
    }
   },
   "outputs": [],
   "source": [
    "def insert(user_id, course_title, units, score):\n",
    "    with connection.cursor() as cursor:\n",
    "    # Create a new record\n",
    "\n",
    "        sql = f\"INSERT INTO `exams` (`user_id`, `course_title`, `units`, `score`) VALUES ('{user_id}', '{course_title}', '{units}', {score})\"\n",
    "        cursor.execute(sql)\n",
    "\n",
    "    connection.commit()"
   ]
  },
  {
   "cell_type": "markdown",
   "metadata": {
    "ExecuteTime": {
     "end_time": "2021-06-10T12:48:40.534124Z",
     "start_time": "2021-06-10T12:48:40.519123Z"
    }
   },
   "source": [
    "### USING GET_IF FUNCTION"
   ]
  },
  {
   "cell_type": "code",
   "execution_count": 64,
   "metadata": {
    "ExecuteTime": {
     "end_time": "2021-06-10T12:53:06.750588Z",
     "start_time": "2021-06-10T12:53:06.731592Z"
    }
   },
   "outputs": [],
   "source": [
    "name = input(\"Please enter your target username : \")\n",
    "course_title = input(\"Please enter your target course_title : \")\n",
    "units = input(\"Please enter your target units : \")\n",
    "score = input(\"Please enter your target score : \")\n",
    "\n",
    "user_id = get_id(name)\n",
    "\n",
    "insert(user_id, course_title, units, score)"
   ]
  },
  {
   "cell_type": "markdown",
   "metadata": {},
   "source": [
    "### USING GET_IF FUNCTION WITH ABILITY TO ADD NON EXIXTENT USER"
   ]
  },
  {
   "cell_type": "code",
   "execution_count": 69,
   "metadata": {
    "ExecuteTime": {
     "end_time": "2021-06-10T12:59:31.205155Z",
     "start_time": "2021-06-10T12:59:13.207587Z"
    }
   },
   "outputs": [
    {
     "name": "stdout",
     "output_type": "stream",
     "text": [
      "Please enter your target username : wilson\n",
      "Please enter your target course_title : math\n",
      "Please enter your target units : 3\n",
      "Please enter your target score : 98\n",
      "Sorry user does not exist\n",
      "\n",
      "\n",
      "Please enter new user age : 23\n",
      "Please enter new user gender : male\n"
     ]
    }
   ],
   "source": [
    "name = input(\"Please enter your target username : \")\n",
    "course_title = input(\"Please enter your target course_title : \")\n",
    "units = input(\"Please enter your target units : \")\n",
    "score = input(\"Please enter your target score : \")\n",
    "\n",
    "user_id = get_id(name)\n",
    "\n",
    "if user_id == False:\n",
    "    print(\"Sorry user does not exist\\n\\n\")\n",
    "    \n",
    "    age = input(\"Please enter new user age : \")\n",
    "    gender = input(\"Please enter new user gender : \")\n",
    "    \n",
    "    add_new_user(name, age, gender)\n",
    "    user_id = get_id(name)\n",
    "else:\n",
    "    pass\n",
    "\n",
    "\n",
    "insert(user_id, course_title, units, score)"
   ]
  },
  {
   "cell_type": "code",
   "execution_count": null,
   "metadata": {},
   "outputs": [],
   "source": []
  },
  {
   "cell_type": "code",
   "execution_count": null,
   "metadata": {},
   "outputs": [],
   "source": []
  }
 ],
 "metadata": {
  "hide_input": false,
  "kernelspec": {
   "display_name": "Python 3",
   "language": "python",
   "name": "python3"
  },
  "language_info": {
   "codemirror_mode": {
    "name": "ipython",
    "version": 3
   },
   "file_extension": ".py",
   "mimetype": "text/x-python",
   "name": "python",
   "nbconvert_exporter": "python",
   "pygments_lexer": "ipython3",
   "version": "3.7.8"
  },
  "varInspector": {
   "cols": {
    "lenName": 16,
    "lenType": 16,
    "lenVar": 40
   },
   "kernels_config": {
    "python": {
     "delete_cmd_postfix": "",
     "delete_cmd_prefix": "del ",
     "library": "var_list.py",
     "varRefreshCmd": "print(var_dic_list())"
    },
    "r": {
     "delete_cmd_postfix": ") ",
     "delete_cmd_prefix": "rm(",
     "library": "var_list.r",
     "varRefreshCmd": "cat(var_dic_list()) "
    }
   },
   "types_to_exclude": [
    "module",
    "function",
    "builtin_function_or_method",
    "instance",
    "_Feature"
   ],
   "window_display": false
  }
 },
 "nbformat": 4,
 "nbformat_minor": 4
}
